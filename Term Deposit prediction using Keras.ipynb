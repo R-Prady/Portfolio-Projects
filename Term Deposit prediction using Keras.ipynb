{
 "cells": [
  {
   "cell_type": "markdown",
   "metadata": {},
   "source": [
    "### Imports"
   ]
  },
  {
   "cell_type": "code",
   "execution_count": 1,
   "metadata": {},
   "outputs": [
    {
     "name": "stderr",
     "output_type": "stream",
     "text": [
      "Using TensorFlow backend.\n"
     ]
    }
   ],
   "source": [
    "import pandas as pd\n",
    "import numpy as np\n",
    "import matplotlib.pyplot as plt\n",
    "import seaborn as sns\n",
    "%matplotlib inline\n",
    "import keras"
   ]
  },
  {
   "cell_type": "markdown",
   "metadata": {},
   "source": [
    "Input variables:\n",
    "\n",
    "# bank client data:\n",
    "1 - age (numeric)\n",
    "2 - job : type of job (categorical: 'admin.','blue-collar','entrepreneur','housemaid','management','retired','self-employed','services','student','technician','unemployed','unknown')\n",
    "3 - marital : marital status (categorical: 'divorced','married','single','unknown'; note: 'divorced' means divorced or widowed)\n",
    "4 - education (categorical: 'basic.4y','basic.6y','basic.9y','high.school','illiterate','professional.course','university.degree','unknown')\n",
    "5 - default: has credit in default? (categorical: 'no','yes','unknown')\n",
    "6 - housing: has housing loan? (categorical: 'no','yes','unknown')\n",
    "7 - loan: has personal loan? (categorical: 'no','yes','unknown')\n",
    "\n",
    "# related with the last contact of the current campaign:\n",
    "8 - contact: contact communication type (categorical: 'cellular','telephone') \n",
    "9 - month: last contact month of year (categorical: 'jan', 'feb', 'mar', ..., 'nov', 'dec')\n",
    "10 - day_of_week: last contact day of the week (categorical: 'mon','tue','wed','thu','fri')\n",
    "11 - duration: last contact duration, in seconds (numeric). Important note: this attribute highly affects the output target (e.g., if duration=0 then y='no'). Yet, the duration is not known before a call is performed. Also, after the end of the call y is obviously known. Thus, this input should only be included for benchmark purposes and should be discarded if the intention is to have a realistic predictive model.\n",
    "\n",
    "# other attributes:\n",
    "12 - campaign: number of contacts performed during this campaign and for this client (numeric, includes last contact)\n",
    "13 - pdays: number of days that passed by after the client was last contacted from a previous campaign (numeric; 999 means client was not previously contacted)\n",
    "14 - previous: number of contacts performed before this campaign and for this client (numeric)\n",
    "15 - poutcome: outcome of the previous marketing campaign (categorical: 'failure','nonexistent','success')\n",
    "\n",
    "# social and economic context attributes\n",
    "16 - emp.var.rate: employment variation rate - quarterly indicator (numeric)\n",
    "17 - cons.price.idx: consumer price index - monthly indicator (numeric) \n",
    "18 - cons.conf.idx: consumer confidence index - monthly indicator (numeric) \n",
    "19 - euribor3m: euribor 3 month rate - daily indicator (numeric)\n",
    "20 - nr.employed: number of employees - quarterly indicator (numeric)\n",
    "\n",
    "Output variable (desired target):\n",
    "21 - y - has the client subscribed a term deposit? (binary: 'yes','no')"
   ]
  },
  {
   "cell_type": "code",
   "execution_count": 3,
   "metadata": {
    "collapsed": true
   },
   "outputs": [],
   "source": [
    "bank = pd.read_csv('C:/Users/prade/Downloads/bank-additional/bank-additional-full.csv',sep=';')"
   ]
  },
  {
   "cell_type": "code",
   "execution_count": 4,
   "metadata": {},
   "outputs": [
    {
     "data": {
      "text/html": [
       "<div>\n",
       "<style>\n",
       "    .dataframe thead tr:only-child th {\n",
       "        text-align: right;\n",
       "    }\n",
       "\n",
       "    .dataframe thead th {\n",
       "        text-align: left;\n",
       "    }\n",
       "\n",
       "    .dataframe tbody tr th {\n",
       "        vertical-align: top;\n",
       "    }\n",
       "</style>\n",
       "<table border=\"1\" class=\"dataframe\">\n",
       "  <thead>\n",
       "    <tr style=\"text-align: right;\">\n",
       "      <th></th>\n",
       "      <th>age</th>\n",
       "      <th>job</th>\n",
       "      <th>marital</th>\n",
       "      <th>education</th>\n",
       "      <th>default</th>\n",
       "      <th>housing</th>\n",
       "      <th>loan</th>\n",
       "      <th>contact</th>\n",
       "      <th>month</th>\n",
       "      <th>day_of_week</th>\n",
       "      <th>...</th>\n",
       "      <th>campaign</th>\n",
       "      <th>pdays</th>\n",
       "      <th>previous</th>\n",
       "      <th>poutcome</th>\n",
       "      <th>emp.var.rate</th>\n",
       "      <th>cons.price.idx</th>\n",
       "      <th>cons.conf.idx</th>\n",
       "      <th>euribor3m</th>\n",
       "      <th>nr.employed</th>\n",
       "      <th>y</th>\n",
       "    </tr>\n",
       "  </thead>\n",
       "  <tbody>\n",
       "    <tr>\n",
       "      <th>0</th>\n",
       "      <td>56</td>\n",
       "      <td>housemaid</td>\n",
       "      <td>married</td>\n",
       "      <td>basic.4y</td>\n",
       "      <td>no</td>\n",
       "      <td>no</td>\n",
       "      <td>no</td>\n",
       "      <td>telephone</td>\n",
       "      <td>may</td>\n",
       "      <td>mon</td>\n",
       "      <td>...</td>\n",
       "      <td>1</td>\n",
       "      <td>999</td>\n",
       "      <td>0</td>\n",
       "      <td>nonexistent</td>\n",
       "      <td>1.1</td>\n",
       "      <td>93.994</td>\n",
       "      <td>-36.4</td>\n",
       "      <td>4.857</td>\n",
       "      <td>5191.0</td>\n",
       "      <td>no</td>\n",
       "    </tr>\n",
       "    <tr>\n",
       "      <th>1</th>\n",
       "      <td>57</td>\n",
       "      <td>services</td>\n",
       "      <td>married</td>\n",
       "      <td>high.school</td>\n",
       "      <td>unknown</td>\n",
       "      <td>no</td>\n",
       "      <td>no</td>\n",
       "      <td>telephone</td>\n",
       "      <td>may</td>\n",
       "      <td>mon</td>\n",
       "      <td>...</td>\n",
       "      <td>1</td>\n",
       "      <td>999</td>\n",
       "      <td>0</td>\n",
       "      <td>nonexistent</td>\n",
       "      <td>1.1</td>\n",
       "      <td>93.994</td>\n",
       "      <td>-36.4</td>\n",
       "      <td>4.857</td>\n",
       "      <td>5191.0</td>\n",
       "      <td>no</td>\n",
       "    </tr>\n",
       "    <tr>\n",
       "      <th>2</th>\n",
       "      <td>37</td>\n",
       "      <td>services</td>\n",
       "      <td>married</td>\n",
       "      <td>high.school</td>\n",
       "      <td>no</td>\n",
       "      <td>yes</td>\n",
       "      <td>no</td>\n",
       "      <td>telephone</td>\n",
       "      <td>may</td>\n",
       "      <td>mon</td>\n",
       "      <td>...</td>\n",
       "      <td>1</td>\n",
       "      <td>999</td>\n",
       "      <td>0</td>\n",
       "      <td>nonexistent</td>\n",
       "      <td>1.1</td>\n",
       "      <td>93.994</td>\n",
       "      <td>-36.4</td>\n",
       "      <td>4.857</td>\n",
       "      <td>5191.0</td>\n",
       "      <td>no</td>\n",
       "    </tr>\n",
       "    <tr>\n",
       "      <th>3</th>\n",
       "      <td>40</td>\n",
       "      <td>admin.</td>\n",
       "      <td>married</td>\n",
       "      <td>basic.6y</td>\n",
       "      <td>no</td>\n",
       "      <td>no</td>\n",
       "      <td>no</td>\n",
       "      <td>telephone</td>\n",
       "      <td>may</td>\n",
       "      <td>mon</td>\n",
       "      <td>...</td>\n",
       "      <td>1</td>\n",
       "      <td>999</td>\n",
       "      <td>0</td>\n",
       "      <td>nonexistent</td>\n",
       "      <td>1.1</td>\n",
       "      <td>93.994</td>\n",
       "      <td>-36.4</td>\n",
       "      <td>4.857</td>\n",
       "      <td>5191.0</td>\n",
       "      <td>no</td>\n",
       "    </tr>\n",
       "    <tr>\n",
       "      <th>4</th>\n",
       "      <td>56</td>\n",
       "      <td>services</td>\n",
       "      <td>married</td>\n",
       "      <td>high.school</td>\n",
       "      <td>no</td>\n",
       "      <td>no</td>\n",
       "      <td>yes</td>\n",
       "      <td>telephone</td>\n",
       "      <td>may</td>\n",
       "      <td>mon</td>\n",
       "      <td>...</td>\n",
       "      <td>1</td>\n",
       "      <td>999</td>\n",
       "      <td>0</td>\n",
       "      <td>nonexistent</td>\n",
       "      <td>1.1</td>\n",
       "      <td>93.994</td>\n",
       "      <td>-36.4</td>\n",
       "      <td>4.857</td>\n",
       "      <td>5191.0</td>\n",
       "      <td>no</td>\n",
       "    </tr>\n",
       "  </tbody>\n",
       "</table>\n",
       "<p>5 rows × 21 columns</p>\n",
       "</div>"
      ],
      "text/plain": [
       "   age        job  marital    education  default housing loan    contact  \\\n",
       "0   56  housemaid  married     basic.4y       no      no   no  telephone   \n",
       "1   57   services  married  high.school  unknown      no   no  telephone   \n",
       "2   37   services  married  high.school       no     yes   no  telephone   \n",
       "3   40     admin.  married     basic.6y       no      no   no  telephone   \n",
       "4   56   services  married  high.school       no      no  yes  telephone   \n",
       "\n",
       "  month day_of_week ...  campaign  pdays  previous     poutcome emp.var.rate  \\\n",
       "0   may         mon ...         1    999         0  nonexistent          1.1   \n",
       "1   may         mon ...         1    999         0  nonexistent          1.1   \n",
       "2   may         mon ...         1    999         0  nonexistent          1.1   \n",
       "3   may         mon ...         1    999         0  nonexistent          1.1   \n",
       "4   may         mon ...         1    999         0  nonexistent          1.1   \n",
       "\n",
       "   cons.price.idx  cons.conf.idx  euribor3m  nr.employed   y  \n",
       "0          93.994          -36.4      4.857       5191.0  no  \n",
       "1          93.994          -36.4      4.857       5191.0  no  \n",
       "2          93.994          -36.4      4.857       5191.0  no  \n",
       "3          93.994          -36.4      4.857       5191.0  no  \n",
       "4          93.994          -36.4      4.857       5191.0  no  \n",
       "\n",
       "[5 rows x 21 columns]"
      ]
     },
     "execution_count": 4,
     "metadata": {},
     "output_type": "execute_result"
    }
   ],
   "source": [
    "bank.head()"
   ]
  },
  {
   "cell_type": "code",
   "execution_count": 9,
   "metadata": {
    "collapsed": true
   },
   "outputs": [],
   "source": [
    "#Dropping unknowns\n",
    "for i in list(bank):\n",
    "    bank = bank[~bank[i].isin(['unknown'])]\n",
    "    "
   ]
  },
  {
   "cell_type": "code",
   "execution_count": 21,
   "metadata": {},
   "outputs": [
    {
     "data": {
      "text/plain": [
       "Index(['age', 'default', 'housing', 'loan', 'contact', 'month', 'day_of_week',\n",
       "       'duration', 'campaign', 'pdays', 'previous', 'poutcome', 'emp.var.rate',\n",
       "       'cons.price.idx', 'cons.conf.idx', 'euribor3m', 'nr.employed', 'y'],\n",
       "      dtype='object')"
      ]
     },
     "execution_count": 21,
     "metadata": {},
     "output_type": "execute_result"
    }
   ],
   "source": [
    "bank.columns"
   ]
  },
  {
   "cell_type": "code",
   "execution_count": 6,
   "metadata": {},
   "outputs": [
    {
     "data": {
      "text/plain": [
       "<seaborn.axisgrid.FacetGrid at 0x27b7e94a668>"
      ]
     },
     "execution_count": 6,
     "metadata": {},
     "output_type": "execute_result"
    },
    {
     "data": {
      "image/png": "[encoded data removed]",
      "text/plain": [
       "<matplotlib.figure.Figure at 0x27b03589cf8>"
      ]
     },
     "metadata": {},
     "output_type": "display_data"
    }
   ],
   "source": [
    "sns.lmplot(x='duration',y='campaign',data=bank,col='y')"
   ]
  },
  {
   "cell_type": "code",
   "execution_count": 6,
   "metadata": {},
   "outputs": [
    {
     "data": {
      "text/plain": [
       "admin.           8737\n",
       "blue-collar      5675\n",
       "technician       5473\n",
       "services         2857\n",
       "management       2311\n",
       "retired          1216\n",
       "self-employed    1092\n",
       "entrepreneur     1089\n",
       "unemployed        738\n",
       "housemaid         690\n",
       "student           610\n",
       "Name: job, dtype: int64"
      ]
     },
     "execution_count": 6,
     "metadata": {},
     "output_type": "execute_result"
    }
   ],
   "source": [
    "bank['job'].value_counts()"
   ]
  },
  {
   "cell_type": "code",
   "execution_count": 15,
   "metadata": {
    "collapsed": true
   },
   "outputs": [],
   "source": [
    "bank.dropna(how='any',inplace=True)"
   ]
  },
  {
   "cell_type": "markdown",
   "metadata": {},
   "source": [
    "# correlation Matrix "
   ]
  },
  {
   "cell_type": "code",
   "execution_count": 76,
   "metadata": {
    "collapsed": true
   },
   "outputs": [],
   "source": [
    "corr = bank.corr()"
   ]
  },
  {
   "cell_type": "code",
   "execution_count": 77,
   "metadata": {},
   "outputs": [
    {
     "data": {
      "text/plain": [
       "<matplotlib.axes._subplots.AxesSubplot at 0x18d560f5400>"
      ]
     },
     "execution_count": 77,
     "metadata": {},
     "output_type": "execute_result"
    },
    {
     "data": {
      "image/png": "[encoded data removed]",
      "text/plain": [
       "<matplotlib.figure.Figure at 0x18d560f17b8>"
      ]
     },
     "metadata": {},
     "output_type": "display_data"
    }
   ],
   "source": [
    "plt.figure(figsize=(15,8))\n",
    "sns.heatmap(corr,annot=True)"
   ]
  },
  {
   "cell_type": "code",
   "execution_count": 7,
   "metadata": {
    "collapsed": true
   },
   "outputs": [],
   "source": [
    "bank.drop(['contact', 'month', 'day_of_week','poutcome'],axis=1,inplace=True)"
   ]
  },
  {
   "cell_type": "code",
   "execution_count": 8,
   "metadata": {},
   "outputs": [
    {
     "data": {
      "text/html": [
       "<div>\n",
       "<style>\n",
       "    .dataframe thead tr:only-child th {\n",
       "        text-align: right;\n",
       "    }\n",
       "\n",
       "    .dataframe thead th {\n",
       "        text-align: left;\n",
       "    }\n",
       "\n",
       "    .dataframe tbody tr th {\n",
       "        vertical-align: top;\n",
       "    }\n",
       "</style>\n",
       "<table border=\"1\" class=\"dataframe\">\n",
       "  <thead>\n",
       "    <tr style=\"text-align: right;\">\n",
       "      <th></th>\n",
       "      <th>age</th>\n",
       "      <th>job</th>\n",
       "      <th>marital</th>\n",
       "      <th>education</th>\n",
       "      <th>default</th>\n",
       "      <th>housing</th>\n",
       "      <th>loan</th>\n",
       "      <th>duration</th>\n",
       "      <th>campaign</th>\n",
       "      <th>pdays</th>\n",
       "      <th>previous</th>\n",
       "      <th>emp.var.rate</th>\n",
       "      <th>cons.price.idx</th>\n",
       "      <th>cons.conf.idx</th>\n",
       "      <th>euribor3m</th>\n",
       "      <th>nr.employed</th>\n",
       "      <th>y</th>\n",
       "    </tr>\n",
       "  </thead>\n",
       "  <tbody>\n",
       "    <tr>\n",
       "      <th>0</th>\n",
       "      <td>56</td>\n",
       "      <td>housemaid</td>\n",
       "      <td>married</td>\n",
       "      <td>basic.4y</td>\n",
       "      <td>no</td>\n",
       "      <td>no</td>\n",
       "      <td>no</td>\n",
       "      <td>261</td>\n",
       "      <td>1</td>\n",
       "      <td>999</td>\n",
       "      <td>0</td>\n",
       "      <td>1.1</td>\n",
       "      <td>93.994</td>\n",
       "      <td>-36.4</td>\n",
       "      <td>4.857</td>\n",
       "      <td>5191.0</td>\n",
       "      <td>no</td>\n",
       "    </tr>\n",
       "    <tr>\n",
       "      <th>2</th>\n",
       "      <td>37</td>\n",
       "      <td>services</td>\n",
       "      <td>married</td>\n",
       "      <td>high.school</td>\n",
       "      <td>no</td>\n",
       "      <td>yes</td>\n",
       "      <td>no</td>\n",
       "      <td>226</td>\n",
       "      <td>1</td>\n",
       "      <td>999</td>\n",
       "      <td>0</td>\n",
       "      <td>1.1</td>\n",
       "      <td>93.994</td>\n",
       "      <td>-36.4</td>\n",
       "      <td>4.857</td>\n",
       "      <td>5191.0</td>\n",
       "      <td>no</td>\n",
       "    </tr>\n",
       "    <tr>\n",
       "      <th>3</th>\n",
       "      <td>40</td>\n",
       "      <td>admin.</td>\n",
       "      <td>married</td>\n",
       "      <td>basic.6y</td>\n",
       "      <td>no</td>\n",
       "      <td>no</td>\n",
       "      <td>no</td>\n",
       "      <td>151</td>\n",
       "      <td>1</td>\n",
       "      <td>999</td>\n",
       "      <td>0</td>\n",
       "      <td>1.1</td>\n",
       "      <td>93.994</td>\n",
       "      <td>-36.4</td>\n",
       "      <td>4.857</td>\n",
       "      <td>5191.0</td>\n",
       "      <td>no</td>\n",
       "    </tr>\n",
       "    <tr>\n",
       "      <th>4</th>\n",
       "      <td>56</td>\n",
       "      <td>services</td>\n",
       "      <td>married</td>\n",
       "      <td>high.school</td>\n",
       "      <td>no</td>\n",
       "      <td>no</td>\n",
       "      <td>yes</td>\n",
       "      <td>307</td>\n",
       "      <td>1</td>\n",
       "      <td>999</td>\n",
       "      <td>0</td>\n",
       "      <td>1.1</td>\n",
       "      <td>93.994</td>\n",
       "      <td>-36.4</td>\n",
       "      <td>4.857</td>\n",
       "      <td>5191.0</td>\n",
       "      <td>no</td>\n",
       "    </tr>\n",
       "    <tr>\n",
       "      <th>6</th>\n",
       "      <td>59</td>\n",
       "      <td>admin.</td>\n",
       "      <td>married</td>\n",
       "      <td>professional.course</td>\n",
       "      <td>no</td>\n",
       "      <td>no</td>\n",
       "      <td>no</td>\n",
       "      <td>139</td>\n",
       "      <td>1</td>\n",
       "      <td>999</td>\n",
       "      <td>0</td>\n",
       "      <td>1.1</td>\n",
       "      <td>93.994</td>\n",
       "      <td>-36.4</td>\n",
       "      <td>4.857</td>\n",
       "      <td>5191.0</td>\n",
       "      <td>no</td>\n",
       "    </tr>\n",
       "  </tbody>\n",
       "</table>\n",
       "</div>"
      ],
      "text/plain": [
       "   age        job  marital            education default housing loan  \\\n",
       "0   56  housemaid  married             basic.4y      no      no   no   \n",
       "2   37   services  married          high.school      no     yes   no   \n",
       "3   40     admin.  married             basic.6y      no      no   no   \n",
       "4   56   services  married          high.school      no      no  yes   \n",
       "6   59     admin.  married  professional.course      no      no   no   \n",
       "\n",
       "   duration  campaign  pdays  previous  emp.var.rate  cons.price.idx  \\\n",
       "0       261         1    999         0           1.1          93.994   \n",
       "2       226         1    999         0           1.1          93.994   \n",
       "3       151         1    999         0           1.1          93.994   \n",
       "4       307         1    999         0           1.1          93.994   \n",
       "6       139         1    999         0           1.1          93.994   \n",
       "\n",
       "   cons.conf.idx  euribor3m  nr.employed   y  \n",
       "0          -36.4      4.857       5191.0  no  \n",
       "2          -36.4      4.857       5191.0  no  \n",
       "3          -36.4      4.857       5191.0  no  \n",
       "4          -36.4      4.857       5191.0  no  \n",
       "6          -36.4      4.857       5191.0  no  "
      ]
     },
     "execution_count": 8,
     "metadata": {},
     "output_type": "execute_result"
    }
   ],
   "source": [
    "bank.head()"
   ]
  },
  {
   "cell_type": "markdown",
   "metadata": {},
   "source": [
    "# Encoding"
   ]
  },
  {
   "cell_type": "code",
   "execution_count": 10,
   "metadata": {
    "collapsed": true
   },
   "outputs": [],
   "source": [
    "from sklearn.preprocessing import LabelEncoder, OneHotEncoder"
   ]
  },
  {
   "cell_type": "code",
   "execution_count": 11,
   "metadata": {
    "collapsed": true
   },
   "outputs": [],
   "source": [
    "X = bank.iloc[:,0:13].values\n",
    "y = bank.iloc[:,13].values"
   ]
  },
  {
   "cell_type": "code",
   "execution_count": 59,
   "metadata": {},
   "outputs": [
    {
     "data": {
      "text/plain": [
       "array(['no', 'no', 'no', ..., 'no', 'yes', 'no'], dtype=object)"
      ]
     },
     "execution_count": 59,
     "metadata": {},
     "output_type": "execute_result"
    }
   ],
   "source": [
    "y"
   ]
  },
  {
   "cell_type": "code",
   "execution_count": 12,
   "metadata": {
    "collapsed": true
   },
   "outputs": [],
   "source": [
    "label_def = LabelEncoder()\n",
    "label_hou = LabelEncoder()\n",
    "label_loan = LabelEncoder()\n",
    "label_y = LabelEncoder()"
   ]
  },
  {
   "cell_type": "code",
   "execution_count": 13,
   "metadata": {
    "collapsed": true
   },
   "outputs": [],
   "source": [
    "X[:,1] = label_def.fit_transform(X[:,1])\n",
    "X[:,2] = label_hou.fit_transform(X[:,2])\n",
    "X[:,3] = label_loan.fit_transform(X[:,3])\n",
    "y = label_y.fit_transform(y)\n"
   ]
  },
  {
   "cell_type": "code",
   "execution_count": 14,
   "metadata": {},
   "outputs": [
    {
     "data": {
      "text/plain": [
       "array([[56, 3, 1, 0, 'no', 'no', 'no', 261, 1, 999, 0, 1.1, 93.994],\n",
       "       [37, 7, 1, 3, 'no', 'yes', 'no', 226, 1, 999, 0, 1.1, 93.994],\n",
       "       [40, 0, 1, 1, 'no', 'no', 'no', 151, 1, 999, 0, 1.1, 93.994],\n",
       "       [56, 7, 1, 3, 'no', 'no', 'yes', 307, 1, 999, 0, 1.1, 93.994],\n",
       "       [59, 0, 1, 5, 'no', 'no', 'no', 139, 1, 999, 0, 1.1, 93.994],\n",
       "       [24, 9, 2, 5, 'no', 'yes', 'no', 380, 1, 999, 0, 1.1, 93.994],\n",
       "       [25, 7, 2, 3, 'no', 'yes', 'no', 50, 1, 999, 0, 1.1, 93.994],\n",
       "       [25, 7, 2, 3, 'no', 'yes', 'no', 222, 1, 999, 0, 1.1, 93.994],\n",
       "       [29, 1, 2, 3, 'no', 'no', 'yes', 137, 1, 999, 0, 1.1, 93.994],\n",
       "       [57, 3, 0, 0, 'no', 'yes', 'no', 293, 1, 999, 0, 1.1, 93.994],\n",
       "       [35, 1, 1, 1, 'no', 'yes', 'no', 146, 1, 999, 0, 1.1, 93.994],\n",
       "       [35, 1, 1, 1, 'no', 'yes', 'no', 312, 1, 999, 0, 1.1, 93.994],\n",
       "       [50, 1, 1, 2, 'no', 'yes', 'yes', 353, 1, 999, 0, 1.1, 93.994],\n",
       "       [30, 10, 1, 3, 'no', 'no', 'no', 38, 1, 999, 0, 1.1, 93.994],\n",
       "       [55, 5, 2, 3, 'no', 'yes', 'no', 342, 1, 999, 0, 1.1, 93.994],\n",
       "       [41, 9, 2, 3, 'no', 'yes', 'no', 181, 1, 999, 0, 1.1, 93.994],\n",
       "       [37, 0, 1, 3, 'no', 'yes', 'no', 172, 1, 999, 0, 1.1, 93.994],\n",
       "       [35, 9, 1, 6, 'no', 'no', 'yes', 99, 1, 999, 0, 1.1, 93.994],\n",
       "       [54, 1, 0, 0, 'no', 'no', 'no', 208, 1, 999, 0, 1.1, 93.994],\n",
       "       [34, 7, 1, 3, 'no', 'no', 'no', 365, 1, 999, 0, 1.1, 93.994]], dtype=object)"
      ]
     },
     "execution_count": 14,
     "metadata": {},
     "output_type": "execute_result"
    }
   ],
   "source": [
    "X[0:20,0:15]"
   ]
  },
  {
   "cell_type": "code",
   "execution_count": 88,
   "metadata": {},
   "outputs": [
    {
     "data": {
      "text/plain": [
       "array([0, 0, 0, ..., 0, 1, 0], dtype=int64)"
      ]
     },
     "execution_count": 88,
     "metadata": {},
     "output_type": "execute_result"
    }
   ],
   "source": [
    "y"
   ]
  },
  {
   "cell_type": "code",
   "execution_count": 89,
   "metadata": {
    "collapsed": true
   },
   "outputs": [],
   "source": [
    "from sklearn.preprocessing import StandardScaler"
   ]
  },
  {
   "cell_type": "code",
   "execution_count": 90,
   "metadata": {
    "collapsed": true
   },
   "outputs": [],
   "source": [
    "sc = StandardScaler()"
   ]
  },
  {
   "cell_type": "code",
   "execution_count": 91,
   "metadata": {
    "collapsed": true
   },
   "outputs": [],
   "source": [
    "from sklearn.model_selection import train_test_split"
   ]
  },
  {
   "cell_type": "code",
   "execution_count": 92,
   "metadata": {
    "collapsed": true
   },
   "outputs": [],
   "source": [
    "X_train, X_test, y_train, y_test = train_test_split(X, y, test_size=0.2, random_state=42)"
   ]
  },
  {
   "cell_type": "code",
   "execution_count": 93,
   "metadata": {},
   "outputs": [
    {
     "name": "stderr",
     "output_type": "stream",
     "text": [
      "C:\\Users\\prade\\Anaconda3\\lib\\site-packages\\sklearn\\utils\\validation.py:429: DataConversionWarning: Data with input dtype object was converted to float64 by StandardScaler.\n",
      "  warnings.warn(msg, _DataConversionWarning)\n"
     ]
    }
   ],
   "source": [
    "X_train = sc.fit_transform(X_train)\n",
    "X_test = sc.fit_transform(X_test)"
   ]
  },
  {
   "cell_type": "code",
   "execution_count": 96,
   "metadata": {},
   "outputs": [
    {
     "data": {
      "text/plain": [
       "array([[-0.29816576, -0.0090558 ,  0.92216632, -0.43280889, -0.45725129,\n",
       "        -0.55600853,  0.21346848, -0.37415281,  0.9153567 ,  0.67389306,\n",
       "        -0.44299946,  0.84690948,  0.89678299],\n",
       "       [-0.10512417, -0.0090558 ,  0.92216632, -0.43280889,  2.26832159,\n",
       "        -0.55600853,  0.21346848, -0.37415281,  0.9153567 , -0.13496114,\n",
       "         0.93145548,  0.84859652,  0.89678299],\n",
       "       [ 1.14964618, -0.0090558 ,  0.92216632, -0.43280889, -0.83067017,\n",
       "        -0.19120926,  0.21346848,  1.53217412, -1.06939574, -1.07521148,\n",
       "        -1.17187708, -1.19778639, -0.81554096],\n",
       "       [ 1.53572937, -0.0090558 , -1.08440309, -0.43280889, -0.48034937,\n",
       "        -0.55600853,  0.21346848, -0.37415281,  0.9153567 ,  0.67389306,\n",
       "        -0.44299946,  0.84634713,  0.89678299],\n",
       "       [ 0.37747981, -0.0090558 , -1.08440309, -0.43280889, -0.11078016,\n",
       "        -0.55600853,  0.21346848, -0.37415281, -1.06939574, -0.76463877,\n",
       "        -1.35930276, -1.11962007, -0.81554096],\n",
       "       [-1.84249849, -0.0090558 ,  0.92216632, -0.43280889, -0.79602306,\n",
       "        -0.55600853,  0.21346848,  1.53217412, -1.00737223,  0.90767581,\n",
       "         0.16092771, -1.54925364, -2.24247758],\n",
       "       [-0.58772815, -0.0090558 , -1.08440309, -0.43280889, -0.47265001,\n",
       "        -0.19120926,  0.21346848, -0.37415281,  0.72928616,  0.80358276,\n",
       "         0.86898026,  0.78617594,  0.40432394],\n",
       "       [ 1.43920857, -0.0090558 ,  0.92216632, -0.43280889, -0.38410739,\n",
       "        -0.19120926, -4.69426743,  1.53217412, -0.01499601, -0.55133334,\n",
       "        -0.29722394,  0.37285045,  0.46803831],\n",
       "       [-0.20164496, -0.0090558 ,  0.92216632, -0.43280889, -0.04918529,\n",
       "        -0.55600853, -4.70413222,  7.25115489, -1.06939574,  0.60222244,\n",
       "         0.11927756, -1.56331233, -2.0154951 ],\n",
       "       [-0.78076974, -0.0090558 , -1.08440309, -0.43280889, -0.71133012,\n",
       "        -0.19120926,  0.21346848, -0.37415281, -1.06939574, -0.76463877,\n",
       "        -1.35930276, -1.15392328, -0.81554096]])"
      ]
     },
     "execution_count": 96,
     "metadata": {},
     "output_type": "execute_result"
    }
   ],
   "source": [
    "X_train[0:10,0:15]"
   ]
  },
  {
   "cell_type": "code",
   "execution_count": 97,
   "metadata": {
    "collapsed": true
   },
   "outputs": [],
   "source": [
    "from keras.models import Sequential\n",
    "from keras.layers import Dense"
   ]
  },
  {
   "cell_type": "markdown",
   "metadata": {},
   "source": [
    "# Layers"
   ]
  },
  {
   "cell_type": "code",
   "execution_count": 98,
   "metadata": {
    "collapsed": true
   },
   "outputs": [],
   "source": [
    "classifier = Sequential()"
   ]
  },
  {
   "cell_type": "code",
   "execution_count": 99,
   "metadata": {},
   "outputs": [
    {
     "name": "stderr",
     "output_type": "stream",
     "text": [
      "C:\\Users\\prade\\Anaconda3\\lib\\site-packages\\ipykernel\\__main__.py:1: UserWarning: Update your `Dense` call to the Keras 2 API: `Dense(kernel_initializer=\"uniform\", activation=\"relu\", units=7, input_dim=13)`\n",
      "  if __name__ == '__main__':\n",
      "C:\\Users\\prade\\Anaconda3\\lib\\site-packages\\ipykernel\\__main__.py:2: UserWarning: Update your `Dense` call to the Keras 2 API: `Dense(kernel_initializer=\"uniform\", activation=\"relu\", units=7)`\n",
      "  from ipykernel import kernelapp as app\n",
      "C:\\Users\\prade\\Anaconda3\\lib\\site-packages\\ipykernel\\__main__.py:3: UserWarning: Update your `Dense` call to the Keras 2 API: `Dense(kernel_initializer=\"uniform\", activation=\"sigmoid\", units=1)`\n",
      "  app.launch_new_instance()\n"
     ]
    }
   ],
   "source": [
    "classifier.add(Dense(output_dim=7, init = 'uniform',activation='relu', input_dim=13))\n",
    "classifier.add(Dense(output_dim=7, init = 'uniform',activation='relu'))\n",
    "classifier.add(Dense(output_dim=1, init = 'uniform',activation='sigmoid'))"
   ]
  },
  {
   "cell_type": "code",
   "execution_count": 100,
   "metadata": {
    "collapsed": true
   },
   "outputs": [],
   "source": [
    "classifier.compile(optimizer='adam',loss= 'binary_crossentropy',metrics=['accuracy'])"
   ]
  },
  {
   "cell_type": "markdown",
   "metadata": {},
   "source": [
    "# Training the Model"
   ]
  },
  {
   "cell_type": "code",
   "execution_count": 101,
   "metadata": {
    "scrolled": true
   },
   "outputs": [
    {
     "name": "stdout",
     "output_type": "stream",
     "text": [
      "Epoch 1/100\n",
      "24390/24390 [==============================] - 4s - loss: 0.2602 - acc: 0.8847     \n",
      "Epoch 2/100\n",
      "24390/24390 [==============================] - 2s - loss: 0.2228 - acc: 0.9014     \n",
      "Epoch 3/100\n",
      "24390/24390 [==============================] - 2s - loss: 0.2201 - acc: 0.9025     \n",
      "Epoch 4/100\n",
      "24390/24390 [==============================] - 2s - loss: 0.2188 - acc: 0.9029     \n",
      "Epoch 5/100\n",
      "24390/24390 [==============================] - 2s - loss: 0.2180 - acc: 0.9018     \n",
      "Epoch 6/100\n",
      "24390/24390 [==============================] - 2s - loss: 0.2172 - acc: 0.9035     \n",
      "Epoch 7/100\n",
      "24390/24390 [==============================] - 2s - loss: 0.2167 - acc: 0.9034     \n",
      "Epoch 8/100\n",
      "24390/24390 [==============================] - 2s - loss: 0.2166 - acc: 0.9036     \n",
      "Epoch 9/100\n",
      "24390/24390 [==============================] - 2s - loss: 0.2159 - acc: 0.9028     \n",
      "Epoch 10/100\n",
      "24390/24390 [==============================] - 2s - loss: 0.2158 - acc: 0.9032     \n",
      "Epoch 11/100\n",
      "24390/24390 [==============================] - 2s - loss: 0.2154 - acc: 0.9028     \n",
      "Epoch 12/100\n",
      "24390/24390 [==============================] - 3s - loss: 0.2149 - acc: 0.9037     \n",
      "Epoch 13/100\n",
      "24390/24390 [==============================] - 3s - loss: 0.2139 - acc: 0.9041     \n",
      "Epoch 14/100\n",
      "24390/24390 [==============================] - 3s - loss: 0.2133 - acc: 0.9044     \n",
      "Epoch 15/100\n",
      "24390/24390 [==============================] - 3s - loss: 0.2126 - acc: 0.9035     \n",
      "Epoch 16/100\n",
      "24390/24390 [==============================] - 3s - loss: 0.2121 - acc: 0.9037     \n",
      "Epoch 17/100\n",
      "24390/24390 [==============================] - 3s - loss: 0.2123 - acc: 0.9036     \n",
      "Epoch 18/100\n",
      "24390/24390 [==============================] - 3s - loss: 0.2119 - acc: 0.9043     \n",
      "Epoch 19/100\n",
      "24390/24390 [==============================] - 3s - loss: 0.2113 - acc: 0.9041     \n",
      "Epoch 20/100\n",
      "24390/24390 [==============================] - 2s - loss: 0.2114 - acc: 0.9043     \n",
      "Epoch 21/100\n",
      "24390/24390 [==============================] - 2s - loss: 0.2107 - acc: 0.9046     \n",
      "Epoch 22/100\n",
      "24390/24390 [==============================] - 3s - loss: 0.2103 - acc: 0.9040     \n",
      "Epoch 23/100\n",
      "24390/24390 [==============================] - 2s - loss: 0.2103 - acc: 0.9036     \n",
      "Epoch 24/100\n",
      "24390/24390 [==============================] - 3s - loss: 0.2099 - acc: 0.9037     \n",
      "Epoch 25/100\n",
      "24390/24390 [==============================] - 3s - loss: 0.2092 - acc: 0.9048     \n",
      "Epoch 26/100\n",
      "24390/24390 [==============================] - 3s - loss: 0.2095 - acc: 0.9043     \n",
      "Epoch 27/100\n",
      "24390/24390 [==============================] - 2s - loss: 0.2090 - acc: 0.9047     \n",
      "Epoch 28/100\n",
      "24390/24390 [==============================] - 2s - loss: 0.2086 - acc: 0.9051     \n",
      "Epoch 29/100\n",
      "24390/24390 [==============================] - 2s - loss: 0.2083 - acc: 0.9047     \n",
      "Epoch 30/100\n",
      "24390/24390 [==============================] - 3s - loss: 0.2084 - acc: 0.9046     \n",
      "Epoch 31/100\n",
      "24390/24390 [==============================] - 3s - loss: 0.2081 - acc: 0.9031     \n",
      "Epoch 32/100\n",
      "24390/24390 [==============================] - 3s - loss: 0.2079 - acc: 0.9043     \n",
      "Epoch 33/100\n",
      "24390/24390 [==============================] - 3s - loss: 0.2081 - acc: 0.9059     \n",
      "Epoch 34/100\n",
      "24390/24390 [==============================] - 3s - loss: 0.2079 - acc: 0.9045     \n",
      "Epoch 35/100\n",
      "24390/24390 [==============================] - 3s - loss: 0.2075 - acc: 0.9052     \n",
      "Epoch 36/100\n",
      "24390/24390 [==============================] - 3s - loss: 0.2076 - acc: 0.9043     \n",
      "Epoch 37/100\n",
      "24390/24390 [==============================] - 3s - loss: 0.2073 - acc: 0.9055     \n",
      "Epoch 38/100\n",
      "24390/24390 [==============================] - 4s - loss: 0.2073 - acc: 0.9052     \n",
      "Epoch 39/100\n",
      "24390/24390 [==============================] - 3s - loss: 0.2071 - acc: 0.9057     \n",
      "Epoch 40/100\n",
      "24390/24390 [==============================] - 3s - loss: 0.2072 - acc: 0.9039     \n",
      "Epoch 41/100\n",
      "24390/24390 [==============================] - 3s - loss: 0.2071 - acc: 0.9050     \n",
      "Epoch 42/100\n",
      "24390/24390 [==============================] - 3s - loss: 0.2070 - acc: 0.9048     \n",
      "Epoch 43/100\n",
      "24390/24390 [==============================] - 3s - loss: 0.2068 - acc: 0.9045     \n",
      "Epoch 44/100\n",
      "24390/24390 [==============================] - 3s - loss: 0.2067 - acc: 0.9050     \n",
      "Epoch 45/100\n",
      "24390/24390 [==============================] - 4s - loss: 0.2067 - acc: 0.9042     \n",
      "Epoch 46/100\n",
      "24390/24390 [==============================] - 5s - loss: 0.2063 - acc: 0.9048     \n",
      "Epoch 47/100\n",
      "24390/24390 [==============================] - 4s - loss: 0.2068 - acc: 0.9052     \n",
      "Epoch 48/100\n",
      "24390/24390 [==============================] - 4s - loss: 0.2068 - acc: 0.9050     \n",
      "Epoch 49/100\n",
      "24390/24390 [==============================] - 5s - loss: 0.2060 - acc: 0.9047     \n",
      "Epoch 50/100\n",
      "24390/24390 [==============================] - 5s - loss: 0.2062 - acc: 0.9039     \n",
      "Epoch 51/100\n",
      "24390/24390 [==============================] - 4s - loss: 0.2064 - acc: 0.9052     \n",
      "Epoch 52/100\n",
      "24390/24390 [==============================] - 4s - loss: 0.2064 - acc: 0.9046     \n",
      "Epoch 53/100\n",
      "24390/24390 [==============================] - 4s - loss: 0.2058 - acc: 0.9051     \n",
      "Epoch 54/100\n",
      "24390/24390 [==============================] - 4s - loss: 0.2059 - acc: 0.9043     \n",
      "Epoch 55/100\n",
      "24390/24390 [==============================] - 5s - loss: 0.2060 - acc: 0.9049     \n",
      "Epoch 56/100\n",
      "24390/24390 [==============================] - 4s - loss: 0.2060 - acc: 0.9057     \n",
      "Epoch 57/100\n",
      "24390/24390 [==============================] - 4s - loss: 0.2060 - acc: 0.9043     \n",
      "Epoch 58/100\n",
      "24390/24390 [==============================] - 4s - loss: 0.2060 - acc: 0.9038     \n",
      "Epoch 59/100\n",
      "24390/24390 [==============================] - 4s - loss: 0.2057 - acc: 0.9055     \n",
      "Epoch 60/100\n",
      "24390/24390 [==============================] - 3s - loss: 0.2055 - acc: 0.9051     \n",
      "Epoch 61/100\n",
      "24390/24390 [==============================] - 4s - loss: 0.2058 - acc: 0.9057     \n",
      "Epoch 62/100\n",
      "24390/24390 [==============================] - 4s - loss: 0.2055 - acc: 0.9050     \n",
      "Epoch 63/100\n",
      "24390/24390 [==============================] - 4s - loss: 0.2052 - acc: 0.9052     \n",
      "Epoch 64/100\n",
      "24390/24390 [==============================] - 4s - loss: 0.2048 - acc: 0.9058     \n",
      "Epoch 65/100\n",
      "24390/24390 [==============================] - 4s - loss: 0.2053 - acc: 0.9046     \n",
      "Epoch 66/100\n",
      "24390/24390 [==============================] - 4s - loss: 0.2053 - acc: 0.9045     \n",
      "Epoch 67/100\n",
      "24390/24390 [==============================] - 4s - loss: 0.2047 - acc: 0.9048     \n",
      "Epoch 68/100\n",
      "24390/24390 [==============================] - 4s - loss: 0.2049 - acc: 0.9049     \n",
      "Epoch 69/100\n",
      "24390/24390 [==============================] - 4s - loss: 0.2051 - acc: 0.9047     \n",
      "Epoch 70/100\n",
      "24390/24390 [==============================] - 4s - loss: 0.2048 - acc: 0.9041     \n",
      "Epoch 71/100\n",
      "24390/24390 [==============================] - 4s - loss: 0.2044 - acc: 0.9046     \n",
      "Epoch 72/100\n",
      "24390/24390 [==============================] - 4s - loss: 0.2050 - acc: 0.9042     \n",
      "Epoch 73/100\n",
      "24390/24390 [==============================] - 4s - loss: 0.2045 - acc: 0.9062     \n",
      "Epoch 74/100\n",
      "24390/24390 [==============================] - 4s - loss: 0.2044 - acc: 0.9056     \n",
      "Epoch 75/100\n",
      "24390/24390 [==============================] - 4s - loss: 0.2041 - acc: 0.9052     \n",
      "Epoch 76/100\n",
      "24390/24390 [==============================] - 4s - loss: 0.2042 - acc: 0.9043     \n",
      "Epoch 77/100\n",
      "24390/24390 [==============================] - 4s - loss: 0.2043 - acc: 0.9052     \n",
      "Epoch 78/100\n",
      "24390/24390 [==============================] - 4s - loss: 0.2038 - acc: 0.9063     \n",
      "Epoch 79/100\n",
      "24390/24390 [==============================] - 4s - loss: 0.2039 - acc: 0.9054     \n",
      "Epoch 80/100\n",
      "24390/24390 [==============================] - 4s - loss: 0.2039 - acc: 0.9050     \n",
      "Epoch 81/100\n",
      "24390/24390 [==============================] - 4s - loss: 0.2036 - acc: 0.9055     \n",
      "Epoch 82/100\n",
      "24390/24390 [==============================] - 4s - loss: 0.2040 - acc: 0.9038     \n",
      "Epoch 83/100\n",
      "24390/24390 [==============================] - 4s - loss: 0.2038 - acc: 0.9056     \n",
      "Epoch 84/100\n",
      "24390/24390 [==============================] - 4s - loss: 0.2037 - acc: 0.9055     \n",
      "Epoch 85/100\n",
      "24390/24390 [==============================] - 4s - loss: 0.2037 - acc: 0.9052     \n",
      "Epoch 86/100\n",
      "24390/24390 [==============================] - 4s - loss: 0.2036 - acc: 0.9053     \n",
      "Epoch 87/100\n",
      "24390/24390 [==============================] - 4s - loss: 0.2039 - acc: 0.9048     \n",
      "Epoch 88/100\n",
      "24390/24390 [==============================] - 4s - loss: 0.2036 - acc: 0.9055     \n",
      "Epoch 89/100\n",
      "24390/24390 [==============================] - 4s - loss: 0.2033 - acc: 0.9053     \n",
      "Epoch 90/100\n",
      "24390/24390 [==============================] - 3s - loss: 0.2035 - acc: 0.9051     \n",
      "Epoch 91/100\n",
      "24390/24390 [==============================] - 3s - loss: 0.2033 - acc: 0.9044     \n",
      "Epoch 92/100\n",
      "24390/24390 [==============================] - 3s - loss: 0.2034 - acc: 0.9043     \n",
      "Epoch 93/100\n",
      "24390/24390 [==============================] - 3s - loss: 0.2031 - acc: 0.9060     \n",
      "Epoch 94/100\n",
      "24390/24390 [==============================] - 3s - loss: 0.2032 - acc: 0.9057     \n",
      "Epoch 95/100\n",
      "24390/24390 [==============================] - 3s - loss: 0.2027 - acc: 0.9046     \n",
      "Epoch 96/100\n",
      "24390/24390 [==============================] - 3s - loss: 0.2030 - acc: 0.9055     \n",
      "Epoch 97/100\n",
      "24390/24390 [==============================] - 3s - loss: 0.2029 - acc: 0.9050     \n",
      "Epoch 98/100\n",
      "24390/24390 [==============================] - 3s - loss: 0.2025 - acc: 0.9050     \n",
      "Epoch 99/100\n",
      "24390/24390 [==============================] - 3s - loss: 0.2027 - acc: 0.9057     \n",
      "Epoch 100/100\n",
      "24390/24390 [==============================] - 3s - loss: 0.2021 - acc: 0.9052     \n"
     ]
    },
    {
     "data": {
      "text/plain": [
       "<keras.callbacks.History at 0x1e46644ef60>"
      ]
     },
     "execution_count": 101,
     "metadata": {},
     "output_type": "execute_result"
    }
   ],
   "source": [
    "classifier.fit(X_train,y_train,batch_size=10, epochs=100)"
   ]
  },
  {
   "cell_type": "code",
   "execution_count": 110,
   "metadata": {
    "collapsed": true
   },
   "outputs": [],
   "source": [
    "predict = classifier.predict(X_test)"
   ]
  },
  {
   "cell_type": "code",
   "execution_count": 111,
   "metadata": {
    "collapsed": true
   },
   "outputs": [],
   "source": [
    "predictNN = (predict>0.5)"
   ]
  },
  {
   "cell_type": "code",
   "execution_count": 113,
   "metadata": {},
   "outputs": [
    {
     "name": "stdout",
     "output_type": "stream",
     "text": [
      "[[5073  231]\n",
      " [ 395  399]] \n",
      "\n",
      "             precision    recall  f1-score   support\n",
      "\n",
      "          0       0.93      0.96      0.94      5304\n",
      "          1       0.63      0.50      0.56       794\n",
      "\n",
      "avg / total       0.89      0.90      0.89      6098\n",
      "\n"
     ]
    }
   ],
   "source": [
    "print(confusion_matrix(y_test,predictNN),'\\n')\n",
    "print(classification_report(y_test,predictNN))"
   ]
  },
  {
   "cell_type": "code",
   "execution_count": 106,
   "metadata": {
    "collapsed": true
   },
   "outputs": [],
   "source": [
    "from sklearn.neighbors import KNeighborsClassifier\n",
    "from sklearn.ensemble import RandomForestClassifier\n",
    "from sklearn.model_selection import train_test_split\n",
    "from sklearn.metrics import confusion_matrix,classification_report"
   ]
  },
  {
   "cell_type": "code",
   "execution_count": 123,
   "metadata": {
    "collapsed": true
   },
   "outputs": [],
   "source": [
    "from sklearn import metrics"
   ]
  },
  {
   "cell_type": "code",
   "execution_count": 108,
   "metadata": {
    "collapsed": true
   },
   "outputs": [],
   "source": [
    "rfc = RandomForestClassifier(n_estimators=300)"
   ]
  },
  {
   "cell_type": "code",
   "execution_count": 109,
   "metadata": {},
   "outputs": [
    {
     "data": {
      "text/plain": [
       "RandomForestClassifier(bootstrap=True, class_weight=None, criterion='gini',\n",
       "            max_depth=None, max_features='auto', max_leaf_nodes=None,\n",
       "            min_impurity_split=1e-07, min_samples_leaf=1,\n",
       "            min_samples_split=2, min_weight_fraction_leaf=0.0,\n",
       "            n_estimators=300, n_jobs=1, oob_score=False, random_state=None,\n",
       "            verbose=0, warm_start=False)"
      ]
     },
     "execution_count": 109,
     "metadata": {},
     "output_type": "execute_result"
    }
   ],
   "source": [
    "rfc.fit(X_train,y_train)"
   ]
  },
  {
   "cell_type": "code",
   "execution_count": 114,
   "metadata": {
    "collapsed": true
   },
   "outputs": [],
   "source": [
    "predictRF = rfc.predict(X_test)"
   ]
  },
  {
   "cell_type": "code",
   "execution_count": 117,
   "metadata": {},
   "outputs": [
    {
     "name": "stdout",
     "output_type": "stream",
     "text": [
      "[[5021  283]\n",
      " [ 375  419]]\n",
      "             precision    recall  f1-score   support\n",
      "\n",
      "          0       0.93      0.95      0.94      5304\n",
      "          1       0.60      0.53      0.56       794\n",
      "\n",
      "avg / total       0.89      0.89      0.89      6098\n",
      "\n"
     ]
    }
   ],
   "source": [
    "print(confusion_matrix(y_test,predictRF))\n",
    "print(classification_report(y_test,predictRF))"
   ]
  },
  {
   "cell_type": "code",
   "execution_count": 118,
   "metadata": {
    "collapsed": true
   },
   "outputs": [],
   "source": [
    "knn = KNeighborsClassifier(n_neighbors=12)"
   ]
  },
  {
   "cell_type": "code",
   "execution_count": 119,
   "metadata": {
    "collapsed": true
   },
   "outputs": [
    {
     "data": {
      "text/plain": [
       "KNeighborsClassifier(algorithm='auto', leaf_size=30, metric='minkowski',\n",
       "           metric_params=None, n_jobs=1, n_neighbors=12, p=2,\n",
       "           weights='uniform')"
      ]
     },
     "execution_count": 119,
     "metadata": {},
     "output_type": "execute_result"
    }
   ],
   "source": [
    "knn.fit(X_train,y_train)"
   ]
  },
  {
   "cell_type": "code",
   "execution_count": 120,
   "metadata": {
    "collapsed": true
   },
   "outputs": [],
   "source": [
    "predictk = knn.predict(X_test)"
   ]
  },
  {
   "cell_type": "code",
   "execution_count": 121,
   "metadata": {},
   "outputs": [
    {
     "name": "stdout",
     "output_type": "stream",
     "text": [
      "[[5134  170]\n",
      " [ 504  290]] \n",
      "\n",
      "             precision    recall  f1-score   support\n",
      "\n",
      "          0       0.91      0.97      0.94      5304\n",
      "          1       0.63      0.37      0.46       794\n",
      "\n",
      "avg / total       0.87      0.89      0.88      6098\n",
      "\n"
     ]
    }
   ],
   "source": [
    "print(confusion_matrix(y_test,predictk),'\\n')\n",
    "print(classification_report(y_test,predictk))"
   ]
  },
  {
   "cell_type": "code",
   "execution_count": 109,
   "metadata": {},
   "outputs": [
    {
     "name": "stdout",
     "output_type": "stream",
     "text": [
      "[[ 1.          0.        ]\n",
      " [ 1.          0.        ]\n",
      " [ 0.33333333  0.66666667]\n",
      " ..., \n",
      " [ 0.          1.        ]\n",
      " [ 1.          0.        ]\n",
      " [ 1.          0.        ]]\n"
     ]
    }
   ],
   "source": [
    "print(knn.predict_proba(X_test))"
   ]
  },
  {
   "cell_type": "code",
   "execution_count": 124,
   "metadata": {},
   "outputs": [
    {
     "name": "stdout",
     "output_type": "stream",
     "text": [
      "0.889471958019\n"
     ]
    }
   ],
   "source": [
    "print(metrics.accuracy_score(y_test, predictk))"
   ]
  },
  {
   "cell_type": "code",
   "execution_count": 125,
   "metadata": {},
   "outputs": [
    {
     "name": "stdout",
     "output_type": "stream",
     "text": [
      "[0.86339783535585435, 0.87914070186946536, 0.88274844211216796, 0.88471630042636928, 0.89029189898327321, 0.88930796982617255, 0.88947195801902268, 0.89094785175467361, 0.891439816333224, 0.8896359462118727, 0.89160380452607413, 0.88947195801902268, 0.89225975729747453, 0.89357166284027545, 0.89422761561167596, 0.8932436864545753, 0.89275172187602492, 0.89061987536897347, 0.89225975729747453, 0.88930796982617255, 0.88979993440472283, 0.88914398163332242, 0.89209576910462451, 0.88914398163332242, 0.89209576910462451, 0.89029189898327321, 0.89225975729747453, 0.89160380452607413, 0.89242374549032466] \n",
      "\n"
     ]
    }
   ],
   "source": [
    "k_range = range(1,30)\n",
    "scores = []\n",
    "for k in k_range:\n",
    "    knn = KNeighborsClassifier(n_neighbors=k)\n",
    "    knn.fit(X_train, y_train)\n",
    "    y_pred = knn.predict(X_test)\n",
    "    scores.append(metrics.accuracy_score(y_test, y_pred))\n",
    "\n",
    "print(scores,'\\n')"
   ]
  },
  {
   "cell_type": "code",
   "execution_count": 126,
   "metadata": {},
   "outputs": [
    {
     "data": {
      "text/plain": [
       "<matplotlib.text.Text at 0x1e46b5a97b8>"
      ]
     },
     "execution_count": 126,
     "metadata": {},
     "output_type": "execute_result"
    },
    {
     "data": {
      "image/png": "[encoded data removed]",
      "text/plain": [
       "<matplotlib.figure.Figure at 0x1e46b573208>"
      ]
     },
     "metadata": {},
     "output_type": "display_data"
    }
   ],
   "source": [
    "plt.plot(k_range, scores)\n",
    "plt.xlabel('Value of K for KNN')\n",
    "plt.ylabel('Testing Accuracy')"
   ]
  },
  {
   "cell_type": "code",
   "execution_count": null,
   "metadata": {
    "collapsed": true
   },
   "outputs": [],
   "source": []
  }
 ],
 "metadata": {
  "anaconda-cloud": {},
  "kernelspec": {
   "display_name": "Python [conda root]",
   "language": "python",
   "name": "conda-root-py"
  },
  "language_info": {
   "codemirror_mode": {
    "name": "ipython",
    "version": 3
   },
   "file_extension": ".py",
   "mimetype": "text/x-python",
   "name": "python",
   "nbconvert_exporter": "python",
   "pygments_lexer": "ipython3",
   "version": "3.5.3"
  }
 },
 "nbformat": 4,
 "nbformat_minor": 2
}
