{
 "cells": [
  {
   "cell_type": "markdown",
   "metadata": {},
   "source": [
    "# Importing Libraries"
   ]
  },
  {
   "cell_type": "code",
   "execution_count": 1,
   "metadata": {
    "collapsed": true
   },
   "outputs": [],
   "source": [
    "import pandas as pd\n",
    "import numpy as np\n",
    "import matplotlib.pyplot as plt\n",
    "import seaborn as sns\n",
    "\n",
    "%matplotlib inline"
   ]
  },
  {
   "cell_type": "markdown",
   "metadata": {},
   "source": [
    "## Reading  Data"
   ]
  },
  {
   "cell_type": "code",
   "execution_count": 3,
   "metadata": {
    "collapsed": true
   },
   "outputs": [],
   "source": [
    "training_set = pd.read_csv('C:/Users/prade/Downloads/aapl_train.csv')"
   ]
  },
  {
   "cell_type": "code",
   "execution_count": 14,
   "metadata": {
    "collapsed": true
   },
   "outputs": [],
   "source": [
    "training_set['Date'] = pd.to_datetime(training_set.Date)\n",
    "training_set.sort_values('Date',inplace=True)"
   ]
  },
  {
   "cell_type": "code",
   "execution_count": 15,
   "metadata": {},
   "outputs": [
    {
     "data": {
      "text/html": [
       "<div>\n",
       "<style>\n",
       "    .dataframe thead tr:only-child th {\n",
       "        text-align: right;\n",
       "    }\n",
       "\n",
       "    .dataframe thead th {\n",
       "        text-align: left;\n",
       "    }\n",
       "\n",
       "    .dataframe tbody tr th {\n",
       "        vertical-align: top;\n",
       "    }\n",
       "</style>\n",
       "<table border=\"1\" class=\"dataframe\">\n",
       "  <thead>\n",
       "    <tr style=\"text-align: right;\">\n",
       "      <th></th>\n",
       "      <th>Date</th>\n",
       "      <th>Open</th>\n",
       "      <th>High</th>\n",
       "      <th>Low</th>\n",
       "      <th>Close</th>\n",
       "      <th>Volume</th>\n",
       "    </tr>\n",
       "  </thead>\n",
       "  <tbody>\n",
       "    <tr>\n",
       "      <th>2516</th>\n",
       "      <td>2007-01-03</td>\n",
       "      <td>12.33</td>\n",
       "      <td>12.37</td>\n",
       "      <td>11.70</td>\n",
       "      <td>11.97</td>\n",
       "      <td>311433248</td>\n",
       "    </tr>\n",
       "    <tr>\n",
       "      <th>2515</th>\n",
       "      <td>2007-01-04</td>\n",
       "      <td>12.01</td>\n",
       "      <td>12.28</td>\n",
       "      <td>11.97</td>\n",
       "      <td>12.24</td>\n",
       "      <td>214031636</td>\n",
       "    </tr>\n",
       "    <tr>\n",
       "      <th>2514</th>\n",
       "      <td>2007-01-05</td>\n",
       "      <td>12.25</td>\n",
       "      <td>12.31</td>\n",
       "      <td>12.06</td>\n",
       "      <td>12.15</td>\n",
       "      <td>208817119</td>\n",
       "    </tr>\n",
       "    <tr>\n",
       "      <th>2513</th>\n",
       "      <td>2007-01-08</td>\n",
       "      <td>12.28</td>\n",
       "      <td>12.36</td>\n",
       "      <td>12.18</td>\n",
       "      <td>12.21</td>\n",
       "      <td>199431337</td>\n",
       "    </tr>\n",
       "    <tr>\n",
       "      <th>2512</th>\n",
       "      <td>2007-01-09</td>\n",
       "      <td>12.35</td>\n",
       "      <td>13.28</td>\n",
       "      <td>12.16</td>\n",
       "      <td>13.22</td>\n",
       "      <td>838036682</td>\n",
       "    </tr>\n",
       "  </tbody>\n",
       "</table>\n",
       "</div>"
      ],
      "text/plain": [
       "           Date   Open   High    Low  Close     Volume\n",
       "2516 2007-01-03  12.33  12.37  11.70  11.97  311433248\n",
       "2515 2007-01-04  12.01  12.28  11.97  12.24  214031636\n",
       "2514 2007-01-05  12.25  12.31  12.06  12.15  208817119\n",
       "2513 2007-01-08  12.28  12.36  12.18  12.21  199431337\n",
       "2512 2007-01-09  12.35  13.28  12.16  13.22  838036682"
      ]
     },
     "execution_count": 15,
     "metadata": {},
     "output_type": "execute_result"
    }
   ],
   "source": [
    "training_set.head()"
   ]
  },
  {
   "cell_type": "markdown",
   "metadata": {},
   "source": [
    "## Taking out open price and modifying as tensor"
   ]
  },
  {
   "cell_type": "code",
   "execution_count": 16,
   "metadata": {},
   "outputs": [
    {
     "data": {
      "text/plain": [
       "numpy.ndarray"
      ]
     },
     "execution_count": 16,
     "metadata": {},
     "output_type": "execute_result"
    }
   ],
   "source": [
    "training_set = training_set['Open'].values\n",
    "type(training_set)"
   ]
  },
  {
   "cell_type": "code",
   "execution_count": 17,
   "metadata": {
    "collapsed": true
   },
   "outputs": [],
   "source": [
    "training_set = training_set.reshape(-1,1)"
   ]
  },
  {
   "cell_type": "markdown",
   "metadata": {},
   "source": [
    "# Normalization"
   ]
  },
  {
   "cell_type": "code",
   "execution_count": 18,
   "metadata": {
    "collapsed": true
   },
   "outputs": [],
   "source": [
    "from sklearn.preprocessing import MinMaxScaler"
   ]
  },
  {
   "cell_type": "code",
   "execution_count": 19,
   "metadata": {
    "collapsed": true
   },
   "outputs": [],
   "source": [
    "sc = MinMaxScaler()"
   ]
  },
  {
   "cell_type": "code",
   "execution_count": 20,
   "metadata": {
    "collapsed": true
   },
   "outputs": [],
   "source": [
    "scaled_training_set = sc.fit_transform(training_set)"
   ]
  },
  {
   "cell_type": "markdown",
   "metadata": {},
   "source": [
    "# Inputs and outputs for the Model"
   ]
  },
  {
   "cell_type": "markdown",
   "metadata": {},
   "source": [
    "** timesteps = 60**"
   ]
  },
  {
   "cell_type": "code",
   "execution_count": 21,
   "metadata": {
    "collapsed": true
   },
   "outputs": [],
   "source": [
    "#empty list\n",
    "X_train = []\n",
    "y_train = []"
   ]
  },
  {
   "cell_type": "code",
   "execution_count": 22,
   "metadata": {},
   "outputs": [
    {
     "data": {
      "text/plain": [
       "(2517, 1)"
      ]
     },
     "execution_count": 22,
     "metadata": {},
     "output_type": "execute_result"
    }
   ],
   "source": [
    "#shape of training set\n",
    "scaled_training_set.shape"
   ]
  },
  {
   "cell_type": "code",
   "execution_count": 23,
   "metadata": {
    "collapsed": true
   },
   "outputs": [],
   "source": [
    "for i in range(60,2516):\n",
    "    X_train.append(scaled_training_set[i-60:i,0])\n",
    "    y_train.append(scaled_training_set[i,0])"
   ]
  },
  {
   "cell_type": "code",
   "execution_count": 24,
   "metadata": {
    "collapsed": true
   },
   "outputs": [],
   "source": [
    "X_train, y_train = np.array(X_train),np.array(y_train)"
   ]
  },
  {
   "cell_type": "code",
   "execution_count": 25,
   "metadata": {},
   "outputs": [
    {
     "data": {
      "text/plain": [
       "(2456, 60)"
      ]
     },
     "execution_count": 25,
     "metadata": {},
     "output_type": "execute_result"
    }
   ],
   "source": [
    "X_train.shape"
   ]
  },
  {
   "cell_type": "code",
   "execution_count": 26,
   "metadata": {
    "collapsed": true
   },
   "outputs": [],
   "source": [
    "#reshaping as 3d tensor\n",
    "X_train = np.reshape(X_train, (2456,60,1))"
   ]
  },
  {
   "cell_type": "code",
   "execution_count": 27,
   "metadata": {},
   "outputs": [
    {
     "data": {
      "text/plain": [
       "(2456, 60, 1)"
      ]
     },
     "execution_count": 27,
     "metadata": {},
     "output_type": "execute_result"
    }
   ],
   "source": [
    "X_train.shape"
   ]
  },
  {
   "cell_type": "markdown",
   "metadata": {},
   "source": [
    "# Creating RNN"
   ]
  },
  {
   "cell_type": "code",
   "execution_count": 28,
   "metadata": {},
   "outputs": [
    {
     "name": "stderr",
     "output_type": "stream",
     "text": [
      "Using TensorFlow backend.\n"
     ]
    }
   ],
   "source": [
    "from keras.models import Sequential\n",
    "from keras.layers import Dense, LSTM"
   ]
  },
  {
   "cell_type": "code",
   "execution_count": 29,
   "metadata": {
    "collapsed": true
   },
   "outputs": [],
   "source": [
    "rnnregressor = Sequential()"
   ]
  },
  {
   "cell_type": "code",
   "execution_count": 30,
   "metadata": {
    "collapsed": true
   },
   "outputs": [],
   "source": [
    "rnnregressor.add(LSTM(units=3, return_sequences = True, input_shape=(None,1))) #1st layer\n",
    "rnnregressor.add(LSTM(units=3, return_sequences = True))                       #2nd layer\n",
    "rnnregressor.add(LSTM(units=3, return_sequences = True))                       #3nd layer\n",
    "rnnregressor.add(LSTM(units=3))                                                #4nd layer\n",
    "rnnregressor.add(Dense(units=1))                                              #output layer"
   ]
  },
  {
   "cell_type": "code",
   "execution_count": 31,
   "metadata": {
    "collapsed": true
   },
   "outputs": [],
   "source": [
    "#compile\n",
    "rnnregressor.compile(optimizer='rmsprop', loss = 'mean_squared_error')"
   ]
  },
  {
   "cell_type": "code",
   "execution_count": 35,
   "metadata": {},
   "outputs": [
    {
     "name": "stdout",
     "output_type": "stream",
     "text": [
      "Epoch 1/100\n",
      "2456/2456 [==============================] - 20s - loss: 0.1337    \n",
      "Epoch 2/100\n",
      "2456/2456 [==============================] - 13s - loss: 0.0190    \n",
      "Epoch 3/100\n",
      "2456/2456 [==============================] - 11s - loss: 0.0021    \n",
      "Epoch 4/100\n",
      "2456/2456 [==============================] - 11s - loss: 0.0013    \n",
      "Epoch 5/100\n",
      "2456/2456 [==============================] - 11s - loss: 0.0012    \n",
      "Epoch 6/100\n",
      "2456/2456 [==============================] - 10s - loss: 0.0011    \n",
      "Epoch 7/100\n",
      "2456/2456 [==============================] - 11s - loss: 0.0011    \n",
      "Epoch 8/100\n",
      "2456/2456 [==============================] - 12s - loss: 9.7799e-04    \n",
      "Epoch 9/100\n",
      "2456/2456 [==============================] - 13s - loss: 9.6324e-04    \n",
      "Epoch 10/100\n",
      "2456/2456 [==============================] - 11s - loss: 9.9306e-04    \n",
      "Epoch 11/100\n",
      "2456/2456 [==============================] - 13s - loss: 8.9392e-04    \n",
      "Epoch 12/100\n",
      "2456/2456 [==============================] - 13s - loss: 8.3526e-04    \n",
      "Epoch 13/100\n",
      "2456/2456 [==============================] - 12s - loss: 8.4930e-04    \n",
      "Epoch 14/100\n",
      "2456/2456 [==============================] - 11s - loss: 8.5198e-04    \n",
      "Epoch 15/100\n",
      "2456/2456 [==============================] - 12s - loss: 8.1500e-04    \n",
      "Epoch 16/100\n",
      "2456/2456 [==============================] - 12s - loss: 7.6877e-04    \n",
      "Epoch 17/100\n",
      "2456/2456 [==============================] - 13s - loss: 7.7106e-04    \n",
      "Epoch 18/100\n",
      "2456/2456 [==============================] - 13s - loss: 7.6787e-04    \n",
      "Epoch 19/100\n",
      "2456/2456 [==============================] - 16s - loss: 7.5108e-04    \n",
      "Epoch 20/100\n",
      "2456/2456 [==============================] - 12s - loss: 7.3891e-04    \n",
      "Epoch 21/100\n",
      "2456/2456 [==============================] - 12s - loss: 6.8868e-04    \n",
      "Epoch 22/100\n",
      "2456/2456 [==============================] - 11s - loss: 6.8576e-04    \n",
      "Epoch 23/100\n",
      "2456/2456 [==============================] - 12s - loss: 6.7707e-04    \n",
      "Epoch 24/100\n",
      "2456/2456 [==============================] - 11s - loss: 6.9362e-04    \n",
      "Epoch 25/100\n",
      "2456/2456 [==============================] - 12s - loss: 6.5477e-04    \n",
      "Epoch 26/100\n",
      "2456/2456 [==============================] - 12s - loss: 6.5864e-04    \n",
      "Epoch 27/100\n",
      "2456/2456 [==============================] - 11s - loss: 6.4408e-04    \n",
      "Epoch 28/100\n",
      "2456/2456 [==============================] - 12s - loss: 6.0482e-04    \n",
      "Epoch 29/100\n",
      "2456/2456 [==============================] - 12s - loss: 6.0041e-04    \n",
      "Epoch 30/100\n",
      "2456/2456 [==============================] - 12s - loss: 6.0057e-04    \n",
      "Epoch 31/100\n",
      "2456/2456 [==============================] - 12s - loss: 5.9298e-04    \n",
      "Epoch 32/100\n",
      "2456/2456 [==============================] - 11s - loss: 6.0263e-04    \n",
      "Epoch 33/100\n",
      "2456/2456 [==============================] - 11s - loss: 5.8723e-04    \n",
      "Epoch 34/100\n",
      "2456/2456 [==============================] - 11s - loss: 5.6046e-04    \n",
      "Epoch 35/100\n",
      "2456/2456 [==============================] - 11s - loss: 5.6630e-04    \n",
      "Epoch 36/100\n",
      "2456/2456 [==============================] - 11s - loss: 5.5954e-04    \n",
      "Epoch 37/100\n",
      "2456/2456 [==============================] - 11s - loss: 5.5099e-04    \n",
      "Epoch 38/100\n",
      "2456/2456 [==============================] - 11s - loss: 5.2525e-04    \n",
      "Epoch 39/100\n",
      "2456/2456 [==============================] - 12s - loss: 5.3629e-04    \n",
      "Epoch 40/100\n",
      "2456/2456 [==============================] - 11s - loss: 5.2713e-04    \n",
      "Epoch 41/100\n",
      "2456/2456 [==============================] - 12s - loss: 5.2175e-04    \n",
      "Epoch 42/100\n",
      "2456/2456 [==============================] - 11s - loss: 4.9933e-04    \n",
      "Epoch 43/100\n",
      "2456/2456 [==============================] - 11s - loss: 5.1268e-04    \n",
      "Epoch 44/100\n",
      "2456/2456 [==============================] - 11s - loss: 5.0371e-04    \n",
      "Epoch 45/100\n",
      "2456/2456 [==============================] - 11s - loss: 4.9462e-04    \n",
      "Epoch 46/100\n",
      "2456/2456 [==============================] - 11s - loss: 4.7600e-04    \n",
      "Epoch 47/100\n",
      "2456/2456 [==============================] - 11s - loss: 4.7844e-04    \n",
      "Epoch 48/100\n",
      "2456/2456 [==============================] - 11s - loss: 4.6825e-04    \n",
      "Epoch 49/100\n",
      "2456/2456 [==============================] - 11s - loss: 4.6573e-04    \n",
      "Epoch 50/100\n",
      "2456/2456 [==============================] - 11s - loss: 4.6660e-04    \n",
      "Epoch 51/100\n",
      "2456/2456 [==============================] - 12s - loss: 4.6574e-04    \n",
      "Epoch 52/100\n",
      "2456/2456 [==============================] - 12s - loss: 4.5315e-04    \n",
      "Epoch 53/100\n",
      "2456/2456 [==============================] - 13s - loss: 4.4630e-04    \n",
      "Epoch 54/100\n",
      "2456/2456 [==============================] - 12s - loss: 4.4462e-04    \n",
      "Epoch 55/100\n",
      "2456/2456 [==============================] - 11s - loss: 4.3865e-04    \n",
      "Epoch 56/100\n",
      "2456/2456 [==============================] - 11s - loss: 4.3388e-04    - ETA: 1s - loss: 4.\n",
      "Epoch 57/100\n",
      "2456/2456 [==============================] - 12s - loss: 4.2627e-04    \n",
      "Epoch 58/100\n",
      "2456/2456 [==============================] - 11s - loss: 4.2537e-04    \n",
      "Epoch 59/100\n",
      "2456/2456 [==============================] - 11s - loss: 4.3751e-04    \n",
      "Epoch 60/100\n",
      "2456/2456 [==============================] - 11s - loss: 4.0787e-04    \n",
      "Epoch 61/100\n",
      "2456/2456 [==============================] - 11s - loss: 4.2291e-04    \n",
      "Epoch 62/100\n",
      "2456/2456 [==============================] - 11s - loss: 4.1524e-04    \n",
      "Epoch 63/100\n",
      "2456/2456 [==============================] - 11s - loss: 4.1222e-04    \n",
      "Epoch 64/100\n",
      "2456/2456 [==============================] - 10s - loss: 3.9215e-04    \n",
      "Epoch 65/100\n",
      "2456/2456 [==============================] - 11s - loss: 4.1310e-04    \n",
      "Epoch 66/100\n",
      "2456/2456 [==============================] - 11s - loss: 3.8069e-04    \n",
      "Epoch 67/100\n",
      "2456/2456 [==============================] - 11s - loss: 4.1342e-04    \n",
      "Epoch 68/100\n",
      "2456/2456 [==============================] - 11s - loss: 3.9484e-04    \n",
      "Epoch 69/100\n",
      "2456/2456 [==============================] - 12s - loss: 3.9017e-04    \n",
      "Epoch 70/100\n",
      "2456/2456 [==============================] - 12s - loss: 3.8620e-04    \n",
      "Epoch 71/100\n",
      "2456/2456 [==============================] - 10s - loss: 3.7419e-04    \n",
      "Epoch 72/100\n",
      "2456/2456 [==============================] - 11s - loss: 3.6688e-04    \n",
      "Epoch 73/100\n",
      "2456/2456 [==============================] - 10s - loss: 3.8260e-04    \n",
      "Epoch 74/100\n",
      "2456/2456 [==============================] - 10s - loss: 3.6142e-04    \n",
      "Epoch 75/100\n",
      "2456/2456 [==============================] - 10s - loss: 3.7794e-04    \n",
      "Epoch 76/100\n",
      "2456/2456 [==============================] - 10s - loss: 3.4979e-04    \n",
      "Epoch 77/100\n",
      "2456/2456 [==============================] - 10s - loss: 3.6038e-04    \n",
      "Epoch 78/100\n",
      "2456/2456 [==============================] - 11s - loss: 3.4047e-04    \n",
      "Epoch 79/100\n",
      "2456/2456 [==============================] - 10s - loss: 3.3992e-04    \n",
      "Epoch 80/100\n",
      "2456/2456 [==============================] - 10s - loss: 3.5231e-04    \n",
      "Epoch 81/100\n",
      "2456/2456 [==============================] - 10s - loss: 3.4481e-04    \n",
      "Epoch 82/100\n",
      "2456/2456 [==============================] - 10s - loss: 3.4368e-04    \n",
      "Epoch 83/100\n",
      "2456/2456 [==============================] - 11s - loss: 3.2751e-04    \n",
      "Epoch 84/100\n",
      "2456/2456 [==============================] - 10s - loss: 3.4966e-04    \n",
      "Epoch 85/100\n",
      "2456/2456 [==============================] - 10s - loss: 3.3711e-04    \n",
      "Epoch 86/100\n",
      "2456/2456 [==============================] - 10s - loss: 3.2825e-04    \n",
      "Epoch 87/100\n",
      "2456/2456 [==============================] - 10s - loss: 3.2754e-04    \n",
      "Epoch 88/100\n",
      "2456/2456 [==============================] - 10s - loss: 3.1219e-04    \n",
      "Epoch 89/100\n",
      "2456/2456 [==============================] - 11s - loss: 3.2409e-04    \n",
      "Epoch 90/100\n",
      "2456/2456 [==============================] - 10s - loss: 3.1440e-04    \n",
      "Epoch 91/100\n",
      "2456/2456 [==============================] - 10s - loss: 3.2923e-04    \n",
      "Epoch 92/100\n",
      "2456/2456 [==============================] - 10s - loss: 3.1935e-04    \n",
      "Epoch 93/100\n",
      "2456/2456 [==============================] - 10s - loss: 3.2084e-04    \n",
      "Epoch 94/100\n",
      "2456/2456 [==============================] - 11s - loss: 3.0438e-04    \n",
      "Epoch 95/100\n",
      "2456/2456 [==============================] - 11s - loss: 3.0193e-04    \n",
      "Epoch 96/100\n",
      "2456/2456 [==============================] - 10s - loss: 2.9772e-04    \n",
      "Epoch 97/100\n",
      "2456/2456 [==============================] - 10s - loss: 3.0200e-04    \n",
      "Epoch 98/100\n",
      "2456/2456 [==============================] - 11s - loss: 3.0517e-04    \n",
      "Epoch 99/100\n",
      "2456/2456 [==============================] - 10s - loss: 2.9716e-04    \n",
      "Epoch 100/100\n",
      "2456/2456 [==============================] - 10s - loss: 2.9478e-04    \n"
     ]
    },
    {
     "data": {
      "text/plain": [
       "<keras.callbacks.History at 0x170cab58a90>"
      ]
     },
     "execution_count": 35,
     "metadata": {},
     "output_type": "execute_result"
    }
   ],
   "source": [
    "#Fitting\n",
    "rnnregressor.fit(X_train,y_train, epochs=100, batch_size= 32)"
   ]
  },
  {
   "cell_type": "code",
   "execution_count": 36,
   "metadata": {
    "collapsed": true
   },
   "outputs": [],
   "source": [
    "test_set = pd.read_csv('C:/Users/prade/Downloads/AAPL_test.csv')"
   ]
  },
  {
   "cell_type": "code",
   "execution_count": 37,
   "metadata": {
    "collapsed": true
   },
   "outputs": [],
   "source": [
    "test_set['Date'] = pd.to_datetime(test_set.Date)\n",
    "test_set.sort_values('Date',inplace=True)"
   ]
  },
  {
   "cell_type": "code",
   "execution_count": 38,
   "metadata": {},
   "outputs": [
    {
     "data": {
      "text/html": [
       "<div>\n",
       "<style>\n",
       "    .dataframe thead tr:only-child th {\n",
       "        text-align: right;\n",
       "    }\n",
       "\n",
       "    .dataframe thead th {\n",
       "        text-align: left;\n",
       "    }\n",
       "\n",
       "    .dataframe tbody tr th {\n",
       "        vertical-align: top;\n",
       "    }\n",
       "</style>\n",
       "<table border=\"1\" class=\"dataframe\">\n",
       "  <thead>\n",
       "    <tr style=\"text-align: right;\">\n",
       "      <th></th>\n",
       "      <th>Date</th>\n",
       "      <th>Open</th>\n",
       "      <th>High</th>\n",
       "      <th>Low</th>\n",
       "      <th>Close</th>\n",
       "      <th>Volume</th>\n",
       "    </tr>\n",
       "  </thead>\n",
       "  <tbody>\n",
       "    <tr>\n",
       "      <th>102</th>\n",
       "      <td>2017-01-03</td>\n",
       "      <td>115.80</td>\n",
       "      <td>116.33</td>\n",
       "      <td>114.76</td>\n",
       "      <td>116.15</td>\n",
       "      <td>28781865</td>\n",
       "    </tr>\n",
       "    <tr>\n",
       "      <th>101</th>\n",
       "      <td>2017-01-04</td>\n",
       "      <td>115.85</td>\n",
       "      <td>116.51</td>\n",
       "      <td>115.75</td>\n",
       "      <td>116.02</td>\n",
       "      <td>21118116</td>\n",
       "    </tr>\n",
       "    <tr>\n",
       "      <th>100</th>\n",
       "      <td>2017-01-05</td>\n",
       "      <td>115.92</td>\n",
       "      <td>116.86</td>\n",
       "      <td>115.81</td>\n",
       "      <td>116.61</td>\n",
       "      <td>22193587</td>\n",
       "    </tr>\n",
       "    <tr>\n",
       "      <th>99</th>\n",
       "      <td>2017-01-06</td>\n",
       "      <td>116.78</td>\n",
       "      <td>118.16</td>\n",
       "      <td>116.47</td>\n",
       "      <td>117.91</td>\n",
       "      <td>31751900</td>\n",
       "    </tr>\n",
       "    <tr>\n",
       "      <th>98</th>\n",
       "      <td>2017-01-09</td>\n",
       "      <td>117.95</td>\n",
       "      <td>119.43</td>\n",
       "      <td>117.94</td>\n",
       "      <td>118.99</td>\n",
       "      <td>33561948</td>\n",
       "    </tr>\n",
       "  </tbody>\n",
       "</table>\n",
       "</div>"
      ],
      "text/plain": [
       "          Date    Open    High     Low   Close    Volume\n",
       "102 2017-01-03  115.80  116.33  114.76  116.15  28781865\n",
       "101 2017-01-04  115.85  116.51  115.75  116.02  21118116\n",
       "100 2017-01-05  115.92  116.86  115.81  116.61  22193587\n",
       "99  2017-01-06  116.78  118.16  116.47  117.91  31751900\n",
       "98  2017-01-09  117.95  119.43  117.94  118.99  33561948"
      ]
     },
     "execution_count": 38,
     "metadata": {},
     "output_type": "execute_result"
    }
   ],
   "source": [
    "test_set.head()"
   ]
  },
  {
   "cell_type": "code",
   "execution_count": 39,
   "metadata": {},
   "outputs": [
    {
     "data": {
      "text/plain": [
       "(103, 6)"
      ]
     },
     "execution_count": 39,
     "metadata": {},
     "output_type": "execute_result"
    }
   ],
   "source": [
    "test_set.shape"
   ]
  },
  {
   "cell_type": "code",
   "execution_count": 40,
   "metadata": {
    "collapsed": true
   },
   "outputs": [],
   "source": [
    "real_price = test_set.iloc[:,1:2].values"
   ]
  },
  {
   "cell_type": "code",
   "execution_count": 41,
   "metadata": {
    "collapsed": true
   },
   "outputs": [],
   "source": [
    "real_price = np.concatenate((training_set[0:2456], real_price),axis=0)"
   ]
  },
  {
   "cell_type": "markdown",
   "metadata": {},
   "source": [
    "## Scaling test set"
   ]
  },
  {
   "cell_type": "code",
   "execution_count": 42,
   "metadata": {
    "collapsed": true
   },
   "outputs": [],
   "source": [
    "scaled_real_price = sc.fit_transform(real_price)"
   ]
  },
  {
   "cell_type": "code",
   "execution_count": 43,
   "metadata": {
    "collapsed": true
   },
   "outputs": [],
   "source": [
    "#preparing inputs\n",
    "inputs= []"
   ]
  },
  {
   "cell_type": "code",
   "execution_count": 44,
   "metadata": {
    "collapsed": true
   },
   "outputs": [],
   "source": [
    "for i in range(2456, 2559):\n",
    "    inputs.append(scaled_real_price[i-60:i,0])"
   ]
  },
  {
   "cell_type": "code",
   "execution_count": 45,
   "metadata": {
    "collapsed": true
   },
   "outputs": [],
   "source": [
    "inputs = np.array(inputs)"
   ]
  },
  {
   "cell_type": "code",
   "execution_count": 46,
   "metadata": {},
   "outputs": [
    {
     "data": {
      "text/plain": [
       "60"
      ]
     },
     "execution_count": 46,
     "metadata": {},
     "output_type": "execute_result"
    }
   ],
   "source": [
    "inputs.shape[1]"
   ]
  },
  {
   "cell_type": "code",
   "execution_count": 47,
   "metadata": {
    "collapsed": true
   },
   "outputs": [],
   "source": [
    "inputs = np.reshape(inputs, (inputs.shape[0], inputs.shape[1],1))"
   ]
  },
  {
   "cell_type": "markdown",
   "metadata": {},
   "source": [
    "# Predicting"
   ]
  },
  {
   "cell_type": "code",
   "execution_count": 48,
   "metadata": {
    "collapsed": true
   },
   "outputs": [],
   "source": [
    "predict = rnnregressor.predict(inputs)"
   ]
  },
  {
   "cell_type": "code",
   "execution_count": 49,
   "metadata": {
    "collapsed": true
   },
   "outputs": [],
   "source": [
    "predict = sc.inverse_transform(predict)"
   ]
  },
  {
   "cell_type": "code",
   "execution_count": 50,
   "metadata": {},
   "outputs": [
    {
     "data": {
      "text/plain": [
       "<matplotlib.legend.Legend at 0x170ccadc128>"
      ]
     },
     "execution_count": 50,
     "metadata": {},
     "output_type": "execute_result"
    },
    {
     "data": {
      "image/png": "[encoded data removed]",
      "text/plain": [
       "<matplotlib.figure.Figure at 0x170cad4c438>"
      ]
     },
     "metadata": {},
     "output_type": "display_data"
    }
   ],
   "source": [
    "sns.set_style('white')\n",
    "plt.figure(figsize=(15,10))\n",
    "plt.plot(real_price[2457:], color = 'red', label = 'Real Apple Stock Price')\n",
    "plt.plot(predict, color = 'blue', label = 'Predicted Apple Stock Price')\n",
    "plt.title('Apple Stock Price Prediction')\n",
    "plt.xlabel('Time')\n",
    "plt.ylabel('Apple Stock Price')\n",
    "plt.legend()"
   ]
  }
 ],
 "metadata": {
  "kernelspec": {
   "display_name": "Python [conda root]",
   "language": "python",
   "name": "conda-root-py"
  },
  "language_info": {
   "codemirror_mode": {
    "name": "ipython",
    "version": 3
   },
   "file_extension": ".py",
   "mimetype": "text/x-python",
   "name": "python",
   "nbconvert_exporter": "python",
   "pygments_lexer": "ipython3",
   "version": "3.5.3"
  }
 },
 "nbformat": 4,
 "nbformat_minor": 2
}
